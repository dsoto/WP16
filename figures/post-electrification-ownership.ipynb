{
 "cells": [
  {
   "cell_type": "code",
   "execution_count": 8,
   "metadata": {
    "collapsed": true
   },
   "outputs": [],
   "source": [
    "%matplotlib inline\n",
    "import matplotlib.pyplot as plt\n",
    "import seaborn as sns\n",
    "import pandas as pd\n",
    "import numpy as np\n",
    "import pysentani as sti"
   ]
  },
  {
   "cell_type": "markdown",
   "metadata": {},
   "source": [
    "Create a dataframe with only appliance ownership and willingness to purchase columns and then drop any null responses."
   ]
  },
  {
   "cell_type": "code",
   "execution_count": 9,
   "metadata": {
    "collapsed": true
   },
   "outputs": [],
   "source": [
    "survey = pd.read_excel('../data-anonymous/sentani-merged-cleaned-anonymous-2014-11-29.xlsx')\n",
    "# pysentani access type function\n",
    "survey['access_type'] = sti.access_type(survey)\n",
    "# selecting columns to analyze\n",
    "survey = survey[['app_now/rice_cooker',\n",
    "                 'app_now/TV',\n",
    "                 'app_now/fridge',\n",
    "                 'app_now/fan',\n",
    "                 'app_now/lighting',\n",
    "                 'app_now/radio',\n",
    "                 'app_buy/rice_cooker',\n",
    "                 'app_buy/TV',\n",
    "                 'app_buy/fridge',\n",
    "                 'app_buy/fan',\n",
    "                 'app_buy/lighting',\n",
    "                 'app_buy/radio',\n",
    "                 'access_type',]]\n",
    "# dropping all NaN values for above columns\n",
    "# we don't need to do these per appliance because the nulls are correlated\n",
    "survey = survey.dropna()"
   ]
  },
  {
   "cell_type": "code",
   "execution_count": 10,
   "metadata": {
    "collapsed": false
   },
   "outputs": [],
   "source": [
    "def willing_to_buy(row, now=None, buy=None):\n",
    "    if row[now]==1:\n",
    "        # we return zero in the case where we want to determine the latent demand\n",
    "        #return np.nan\n",
    "        return 0\n",
    "    if row[now]==0 and row[buy]==0:\n",
    "        return 0\n",
    "    if row[now]==0 and row[buy]==1:\n",
    "        return 1\n",
    "    \n",
    "def calc_willingness(survey, appliance):\n",
    "    app_now_appliance = 'app_now/' + appliance\n",
    "    app_buy_appliance = 'app_buy/' + appliance\n",
    "    # when we average this, do we exclude the folks with the appliance?\n",
    "    #survey['wb/' + appliance] = ~survey[app_now_appliance].astype(bool) & survey[app_buy_appliance].astype(bool)\n",
    "    survey['wb/' + appliance] = survey.apply(willing_to_buy, \n",
    "                                axis=1, \n",
    "                                now=app_now_appliance,\n",
    "                                buy=app_buy_appliance)\n",
    "    \n",
    "    \n",
    "appliance_list = ['TV', 'lighting', 'radio', 'rice_cooker', 'fridge', 'fan' ]\n",
    "\n",
    "# Creating variable with for loop adding each from appliance_list to calc_willingess function\n",
    "WBlist = []\n",
    "for appliance in appliance_list:\n",
    "    calc_willingness(survey, appliance)\n",
    "    WBlist.append('wb/' + appliance)"
   ]
  },
  {
   "cell_type": "markdown",
   "metadata": {},
   "source": [
    "Split dataframe into pieces for each analysis to determine the percentage of current ownership and households that will purchase that currently do not own the appliance.  We also rename the columns to facilitate addition later."
   ]
  },
  {
   "cell_type": "code",
   "execution_count": 11,
   "metadata": {
    "collapsed": false
   },
   "outputs": [],
   "source": [
    "app_now = survey[['app_now/rice_cooker',\n",
    "                 'app_now/TV',\n",
    "                 'app_now/fridge',\n",
    "                 'app_now/fan',\n",
    "                 'app_now/lighting',\n",
    "                 'app_now/radio',\n",
    "                 'access_type',]]\n",
    "\n",
    "app_buy = survey[['app_buy/rice_cooker',\n",
    "                 'app_buy/TV',\n",
    "                 'app_buy/fridge',\n",
    "                 'app_buy/fan',\n",
    "                 'app_buy/lighting',\n",
    "                 'app_buy/radio',\n",
    "                 'access_type',]]\n",
    "\n",
    "wb = survey[['wb/rice_cooker',\n",
    "                 'wb/TV',\n",
    "                 'wb/fridge',\n",
    "                 'wb/fan',\n",
    "                 'wb/lighting',\n",
    "                 'wb/radio',\n",
    "                 'access_type',]]\n",
    "\n",
    "app_now.columns = [col.replace('app_now/', '') for col in app_now.columns]\n",
    "app_buy.columns = [col.replace('app_buy/', '') for col in app_buy.columns]\n",
    "wb.columns = [col.replace('wb/', '') for col in wb.columns]"
   ]
  },
  {
   "cell_type": "markdown",
   "metadata": {},
   "source": [
    "Group by access type and take averages.  app_now_mean is the percentage of current ownership and app_buy_mean is the overall percentage that are likely to purchase.  Adding these together gives the overall post-electrification ownership percentage.  We then do some manipulation to get the data in tidy format."
   ]
  },
  {
   "cell_type": "code",
   "execution_count": 12,
   "metadata": {
    "collapsed": false
   },
   "outputs": [
    {
     "data": {
      "text/html": [
       "<div>\n",
       "<table border=\"1\" class=\"dataframe\">\n",
       "  <thead>\n",
       "    <tr style=\"text-align: right;\">\n",
       "      <th></th>\n",
       "      <th>access_type</th>\n",
       "      <th>Appliance</th>\n",
       "      <th>Percent Ownership</th>\n",
       "    </tr>\n",
       "  </thead>\n",
       "  <tbody>\n",
       "    <tr>\n",
       "      <th>0</th>\n",
       "      <td>PLN_grid</td>\n",
       "      <td>rice_cooker</td>\n",
       "      <td>0.494005</td>\n",
       "    </tr>\n",
       "    <tr>\n",
       "      <th>1</th>\n",
       "      <td>PLN_grid</td>\n",
       "      <td>TV</td>\n",
       "      <td>0.944844</td>\n",
       "    </tr>\n",
       "    <tr>\n",
       "      <th>2</th>\n",
       "      <td>PLN_grid</td>\n",
       "      <td>fridge</td>\n",
       "      <td>0.812950</td>\n",
       "    </tr>\n",
       "    <tr>\n",
       "      <th>3</th>\n",
       "      <td>PLN_grid</td>\n",
       "      <td>fan</td>\n",
       "      <td>0.316547</td>\n",
       "    </tr>\n",
       "    <tr>\n",
       "      <th>4</th>\n",
       "      <td>PLN_grid</td>\n",
       "      <td>lighting</td>\n",
       "      <td>0.937650</td>\n",
       "    </tr>\n",
       "  </tbody>\n",
       "</table>\n",
       "</div>"
      ],
      "text/plain": [
       "  access_type    Appliance  Percent Ownership\n",
       "0    PLN_grid  rice_cooker           0.494005\n",
       "1    PLN_grid           TV           0.944844\n",
       "2    PLN_grid       fridge           0.812950\n",
       "3    PLN_grid          fan           0.316547\n",
       "4    PLN_grid     lighting           0.937650"
      ]
     },
     "execution_count": 12,
     "metadata": {},
     "output_type": "execute_result"
    }
   ],
   "source": [
    "app_now_mean = app_now.groupby('access_type').mean().stack()\n",
    "app_buy_mean = wb.groupby('access_type').mean().stack()\n",
    "\n",
    "future_electrification = app_buy_mean + app_now_mean \n",
    "fe_tidy = future_electrification.reset_index()\n",
    "fe_tidy.rename(columns={'level_1':'Appliance', 0:'Percent Ownership'},\n",
    "              inplace=True)\n",
    "fe_tidy.head()"
   ]
  },
  {
   "cell_type": "code",
   "execution_count": 13,
   "metadata": {
    "collapsed": false
   },
   "outputs": [
    {
     "data": {
      "image/png": "[encoded data removed]",
      "text/plain": [
       "<matplotlib.figure.Figure at 0x10a3b6240>"
      ]
     },
     "metadata": {},
     "output_type": "display_data"
    }
   ],
   "source": [
    "# renaming subcategories of Access Type\n",
    "fe_tidy.replace(to_replace = {'access_type': {'PLN_grid': 'PLN Grid',\n",
    "                                             'community_microgrid': 'Community Microgrid',\n",
    "                                             'PLN_microgrid': 'PLN Microgrid',\n",
    "                                             'no_access': 'No Access'}},inplace = True)\n",
    "fe_tidy.rename(columns={'access_type':'Access Type'}, inplace=True)\n",
    "sns.barplot(hue='Access Type', y='Percent Ownership', x='Appliance', \n",
    "            order=['TV', 'lighting', 'radio', 'rice_cooker', 'fridge', 'fan'], data=fe_tidy)\n",
    "plt.savefig('post-electrification-ownership.png')"
   ]
  },
  {
   "cell_type": "markdown",
   "metadata": {
    "collapsed": false
   },
   "source": [
    "I'm still concerned about the difference between the two microgrid categories.  My hunch is that there is something biased in the data beteen those that we don't understand yet."
   ]
  },
  {
   "cell_type": "code",
   "execution_count": null,
   "metadata": {
    "collapsed": true
   },
   "outputs": [],
   "source": []
  }
 ],
 "metadata": {
  "kernelspec": {
   "display_name": "Python 3",
   "language": "python",
   "name": "python3"
  },
  "language_info": {
   "codemirror_mode": {
    "name": "ipython",
    "version": 3
   },
   "file_extension": ".py",
   "mimetype": "text/x-python",
   "name": "python",
   "nbconvert_exporter": "python",
   "pygments_lexer": "ipython3",
   "version": "3.4.3"
  }
 },
 "nbformat": 4,
 "nbformat_minor": 0
}
