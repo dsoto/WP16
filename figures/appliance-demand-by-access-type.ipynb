{
 "cells": [
  {
   "cell_type": "markdown",
   "metadata": {},
   "source": [
    "This figure is intended to show the percentage of homes not currently owning an appliance that stated a desire to purchase that appliance.  To do this we:\n",
    "\n",
    "- Create a new column for each appliance that is \n",
    "    - null if that appliance is already owned\n",
    "    - zero if not owned and will purchase\n",
    "    - one if not owned and won't purchase\n",
    "- We aggregate and average this column by access type to get percentages\n",
    "- We plot this by appliance"
   ]
  },
  {
   "cell_type": "code",
   "execution_count": 1,
   "metadata": {
    "collapsed": true
   },
   "outputs": [],
   "source": [
    "%matplotlib inline\n",
    "import matplotlib.pyplot as plt\n",
    "import seaborn as sns\n",
    "import pandas as pd\n",
    "import numpy as np\n",
    "import pysentani as sti"
   ]
  },
  {
   "cell_type": "code",
   "execution_count": 2,
   "metadata": {
    "collapsed": true
   },
   "outputs": [],
   "source": [
    "survey = pd.read_excel('../data-anonymous/sentani-merged-cleaned-anonymous-2014-11-29.xlsx')\n",
    "# pysentani access type function\n",
    "survey['access_type'] = sti.access_type(survey)\n",
    "survey = survey[['app_now/rice_cooker',\n",
    "                 'app_now/TV',\n",
    "                 'app_now/fridge',\n",
    "                 'app_now/fan',\n",
    "                 'app_now/lighting',\n",
    "                 'app_now/radio',\n",
    "                 'app_buy/rice_cooker',\n",
    "                 'app_buy/TV',\n",
    "                 'app_buy/fridge',\n",
    "                 'app_buy/fan',\n",
    "                 'app_buy/lighting',\n",
    "                 'app_buy/radio',\n",
    "                 'access_type',]]\n",
    "# dropping all NaN values for above columns\n",
    "# we don't need to do these per appliance because the nulls are correlated\n",
    "survey = survey.dropna()"
   ]
  },
  {
   "cell_type": "code",
   "execution_count": 3,
   "metadata": {
    "collapsed": false
   },
   "outputs": [],
   "source": [
    "def willing_to_buy(row, now=None, buy=None):\n",
    "    if row[now]==1:\n",
    "        # we return zero in the case where we want to determine the latent demand\n",
    "        return np.nan\n",
    "        #return 0\n",
    "    if row[now]==0 and row[buy]==0:\n",
    "        return 0\n",
    "    if row[now]==0 and row[buy]==1:\n",
    "        return 1\n",
    "\n",
    "def calc_willingness(survey, appliance):\n",
    "    app_now_appliance = 'app_now/' + appliance\n",
    "    app_buy_appliance = 'app_buy/' + appliance\n",
    "    # when we average this, do we exclude the folks with the appliance?\n",
    "    #survey['wb/' + appliance] = ~survey[app_now_appliance].astype(bool) & survey[app_buy_appliance].astype(bool)\n",
    "    survey['wb/' + appliance] = survey.apply(willing_to_buy, \n",
    "                                axis=1, \n",
    "                                now=app_now_appliance,\n",
    "                                buy=app_buy_appliance)\n",
    "\n",
    "appliance_list = ['fridge', 'rice_cooker', 'fan', 'radio', 'TV', 'lighting' ]\n",
    "\n",
    "# Creating variable with for loop adding each from appliance_list to calc_willingess function\n",
    "WBlist = []\n",
    "for appliance in appliance_list:\n",
    "    calc_willingness(survey, appliance)\n",
    "    WBlist.append('wb/' + appliance)"
   ]
  },
  {
   "cell_type": "code",
   "execution_count": 4,
   "metadata": {
    "collapsed": false
   },
   "outputs": [],
   "source": [
    "wb = survey[['wb/rice_cooker',\n",
    "                 'wb/TV',\n",
    "                 'wb/fridge',\n",
    "                 'wb/fan',\n",
    "                 'wb/lighting',\n",
    "                 'wb/radio',\n",
    "                 'access_type',]]\n",
    "\n",
    "wb.columns = [col.replace('wb/', '') for col in wb.columns]"
   ]
  },
  {
   "cell_type": "code",
   "execution_count": 5,
   "metadata": {
    "collapsed": false
   },
   "outputs": [
    {
     "data": {
      "text/plain": [
       "<matplotlib.axes._subplots.AxesSubplot at 0x1097e7390>"
      ]
     },
     "execution_count": 5,
     "metadata": {},
     "output_type": "execute_result"
    },
    {
     "data": {
      "image/png": "[encoded data removed]",
      "text/plain": [
       "<matplotlib.figure.Figure at 0x104a1f9e8>"
      ]
     },
     "metadata": {},
     "output_type": "display_data"
    }
   ],
   "source": [
    "wb_mean = wb.groupby('access_type').mean().stack()\n",
    "wb_mean = wb_mean.reset_index()\n",
    "wb_mean.rename(columns={'level_1':'Appliance', 0:'Percent Ownership'},\n",
    "              inplace=True)\n",
    "sns.barplot(hue='access_type', y='Percent Ownership', x='Appliance', \n",
    "            order=['TV', 'lighting', 'radio', 'rice_cooker', 'fridge', 'fan'], data=wb_mean)\n",
    "plt.savefig('appliance-demand-by-access-type.png')"
   ]
  },
  {
   "cell_type": "code",
   "execution_count": null,
   "metadata": {
    "collapsed": true
   },
   "outputs": [],
   "source": []
  }
 ],
 "metadata": {
  "kernelspec": {
   "display_name": "Python 3",
   "language": "python",
   "name": "python3"
  },
  "language_info": {
   "codemirror_mode": {
    "name": "ipython",
    "version": 3
   },
   "file_extension": ".py",
   "mimetype": "text/x-python",
   "name": "python",
   "nbconvert_exporter": "python",
   "pygments_lexer": "ipython3",
   "version": "3.4.3"
  }
 },
 "nbformat": 4,
 "nbformat_minor": 0
}
