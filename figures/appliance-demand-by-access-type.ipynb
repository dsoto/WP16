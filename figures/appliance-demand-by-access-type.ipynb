{
 "cells": [
  {
   "cell_type": "code",
   "execution_count": 11,
   "metadata": {
    "collapsed": true
   },
   "outputs": [],
   "source": [
    "%matplotlib inline\n",
    "import matplotlib.pyplot as plt\n",
    "import seaborn as sns\n",
    "import pandas as pd\n",
    "import numpy as np\n",
    "import pysentani as sti"
   ]
  },
  {
   "cell_type": "code",
   "execution_count": 12,
   "metadata": {
    "collapsed": true
   },
   "outputs": [],
   "source": [
    "survey = pd.read_excel('../data-anonymous/sentani-merged-cleaned-anonymous-2014-11-29.xlsx')"
   ]
  },
  {
   "cell_type": "code",
   "execution_count": 13,
   "metadata": {
    "collapsed": true
   },
   "outputs": [],
   "source": [
    "# pysentani access type function\n",
    "survey['access_type'] = sti.access_type(survey)"
   ]
  },
  {
   "cell_type": "code",
   "execution_count": 14,
   "metadata": {
    "collapsed": true
   },
   "outputs": [],
   "source": [
    "# selecting only demand points that are households (is this bad form?)\n",
    "survey = survey[survey['demand_point'] == 'household']"
   ]
  },
  {
   "cell_type": "markdown",
   "metadata": {},
   "source": [
    "* Creating a function definition (calc_willingness): app_now_appliance is a household who currently owns the appliance, app_buy_appliance is a household who wants to buy the appliance. Each survey response is assigned a boolean value. In survey[appliance], the bitwise operator (~) is used to switch true and false values which makes households who do not own the appliance true and now only responses that are both true are evaluated. Fillna(0) is used to treat NaN's as false.\n",
    "* note: so far I have settled on not including NaN responses at all. Do we want a separate count of these?"
   ]
  },
  {
   "cell_type": "code",
   "execution_count": 15,
   "metadata": {
    "collapsed": false
   },
   "outputs": [],
   "source": [
    "def calc_willingness(survey, appliance):\n",
    "    app_now_appliance = 'app_now/' + appliance\n",
    "    app_buy_appliance = 'app_buy/' + appliance\n",
    "    survey[appliance] = ~survey[app_now_appliance].astype(bool)& survey[app_buy_appliance].fillna(0).astype(bool)\n",
    "    \n",
    "appliance_list = ['fridge', 'rice_cooker', 'fan', 'radio', 'TV', 'lighting' ]\n",
    "\n",
    "# Creating variable with for loop adding each from appliance_list to calc_willingess function\n",
    "WBlist = []\n",
    "for appliance in appliance_list:\n",
    "    calc_willingness(survey, appliance)\n",
    "    WBlist.append(appliance)"
   ]
  },
  {
   "cell_type": "code",
   "execution_count": 16,
   "metadata": {
    "collapsed": true
   },
   "outputs": [],
   "source": [
    "# changing access type selection names for graph aesthetics(need to address appliance names further)\n",
    "survey.replace(to_replace = {'access_type': {'PLN_grid': 'PLN Grid',\n",
    "                                             'community_microgrid': 'Community Microgrid',\n",
    "                                             'PLN_microgrid': 'PLN Microgrid',\n",
    "                                             'no_access': 'No Access'}},inplace = True)"
   ]
  },
  {
   "cell_type": "code",
   "execution_count": 17,
   "metadata": {
    "collapsed": true
   },
   "outputs": [],
   "source": [
    "# new dataframe classifying WBlist by access type\n",
    "subsurvey = survey[['access_type'] + WBlist]"
   ]
  },
  {
   "cell_type": "code",
   "execution_count": 18,
   "metadata": {
    "collapsed": false
   },
   "outputs": [
    {
     "data": {
      "text/html": [
       "<div>\n",
       "<table border=\"1\" class=\"dataframe\">\n",
       "  <thead>\n",
       "    <tr style=\"text-align: right;\">\n",
       "      <th></th>\n",
       "      <th>fridge</th>\n",
       "      <th>rice_cooker</th>\n",
       "      <th>fan</th>\n",
       "      <th>radio</th>\n",
       "      <th>TV</th>\n",
       "      <th>lighting</th>\n",
       "      <th>access_type</th>\n",
       "    </tr>\n",
       "    <tr>\n",
       "      <th>access_type</th>\n",
       "      <th></th>\n",
       "      <th></th>\n",
       "      <th></th>\n",
       "      <th></th>\n",
       "      <th></th>\n",
       "      <th></th>\n",
       "      <th></th>\n",
       "    </tr>\n",
       "  </thead>\n",
       "  <tbody>\n",
       "    <tr>\n",
       "      <th>Community Microgrid</th>\n",
       "      <td>0.346154</td>\n",
       "      <td>0.307692</td>\n",
       "      <td>0.307692</td>\n",
       "      <td>0.134615</td>\n",
       "      <td>0.057692</td>\n",
       "      <td>0.019231</td>\n",
       "      <td>Community Microgrid</td>\n",
       "    </tr>\n",
       "    <tr>\n",
       "      <th>No Access</th>\n",
       "      <td>0.265574</td>\n",
       "      <td>0.160656</td>\n",
       "      <td>0.140984</td>\n",
       "      <td>0.091803</td>\n",
       "      <td>0.081967</td>\n",
       "      <td>0.003279</td>\n",
       "      <td>No Access</td>\n",
       "    </tr>\n",
       "    <tr>\n",
       "      <th>PLN Grid</th>\n",
       "      <td>0.364964</td>\n",
       "      <td>0.162409</td>\n",
       "      <td>0.111314</td>\n",
       "      <td>0.036496</td>\n",
       "      <td>0.104015</td>\n",
       "      <td>0.005474</td>\n",
       "      <td>PLN Grid</td>\n",
       "    </tr>\n",
       "    <tr>\n",
       "      <th>PLN Microgrid</th>\n",
       "      <td>0.141026</td>\n",
       "      <td>0.141026</td>\n",
       "      <td>0.057692</td>\n",
       "      <td>0.038462</td>\n",
       "      <td>0.089744</td>\n",
       "      <td>0.000000</td>\n",
       "      <td>PLN Microgrid</td>\n",
       "    </tr>\n",
       "  </tbody>\n",
       "</table>\n",
       "</div>"
      ],
      "text/plain": [
       "                       fridge  rice_cooker       fan     radio        TV  \\\n",
       "access_type                                                                \n",
       "Community Microgrid  0.346154     0.307692  0.307692  0.134615  0.057692   \n",
       "No Access            0.265574     0.160656  0.140984  0.091803  0.081967   \n",
       "PLN Grid             0.364964     0.162409  0.111314  0.036496  0.104015   \n",
       "PLN Microgrid        0.141026     0.141026  0.057692  0.038462  0.089744   \n",
       "\n",
       "                     lighting          access_type  \n",
       "access_type                                         \n",
       "Community Microgrid  0.019231  Community Microgrid  \n",
       "No Access            0.003279            No Access  \n",
       "PLN Grid             0.005474             PLN Grid  \n",
       "PLN Microgrid        0.000000        PLN Microgrid  "
      ]
     },
     "execution_count": 18,
     "metadata": {},
     "output_type": "execute_result"
    }
   ],
   "source": [
    "# using a groupy to calculate the mean of true/true responses by access type \n",
    "analyzed = subsurvey.groupby('access_type').mean()\n",
    "analyzed['access_type'] = analyzed.index \n",
    "analyzed"
   ]
  },
  {
   "cell_type": "code",
   "execution_count": 19,
   "metadata": {
    "collapsed": true
   },
   "outputs": [],
   "source": [
    "# formatting groupby as long form data necessary for barplot below. (Result is not printed but is same data as above)\n",
    "melted = pd.melt(analyzed, \n",
    "                 id_vars=['access_type'],\n",
    "                 value_vars=WBlist,\n",
    "                 value_name='Percent Ownership')"
   ]
  },
  {
   "cell_type": "code",
   "execution_count": 20,
   "metadata": {
    "collapsed": false
   },
   "outputs": [
    {
     "data": {
      "image/png": "[encoded data removed]",
      "text/plain": [
       "<matplotlib.figure.Figure at 0x1093eb7b8>"
      ]
     },
     "metadata": {},
     "output_type": "display_data"
    }
   ],
   "source": [
    "plt.figure(figsize=(13,8))\n",
    "sns.barplot(x='variable', y='Percent Ownership', hue='access_type',\n",
    "            hue_order = ['PLN Grid','PLN Microgrid','Community Microgrid','No Access'],\n",
    "            saturation=5, data=melted)\n",
    "plt.legend(loc='upper right',prop={'size':14})\n",
    "plt.xlabel('Appliance Type', fontsize=14)\n",
    "plt.ylabel('Percent Purchase Projection', fontsize=14)\n",
    "plt.tick_params(labelsize=12)\n",
    "plt.savefig('appliance-demand-by-access-type.png')"
   ]
  },
  {
   "cell_type": "code",
   "execution_count": null,
   "metadata": {
    "collapsed": true
   },
   "outputs": [],
   "source": []
  }
 ],
 "metadata": {
  "kernelspec": {
   "display_name": "Python 3",
   "language": "python",
   "name": "python3"
  },
  "language_info": {
   "codemirror_mode": {
    "name": "ipython",
    "version": 3
   },
   "file_extension": ".py",
   "mimetype": "text/x-python",
   "name": "python",
   "nbconvert_exporter": "python",
   "pygments_lexer": "ipython3",
   "version": "3.4.3"
  }
 },
 "nbformat": 4,
 "nbformat_minor": 0
}
